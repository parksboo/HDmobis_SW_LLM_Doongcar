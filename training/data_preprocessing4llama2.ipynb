{
 "cells": [
  {
   "cell_type": "markdown",
   "metadata": {
    "id": "OIliRL7kxb3w"
   },
   "source": [
    "## import libs"
   ]
  },
  {
   "cell_type": "code",
   "execution_count": 1,
   "metadata": {
    "colab": {
     "base_uri": "https://localhost:8080/"
    },
    "executionInfo": {
     "elapsed": 21766,
     "status": "ok",
     "timestamp": 1708626978416,
     "user": {
      "displayName": "박성부",
      "userId": "13218073421037334971"
     },
     "user_tz": -540
    },
    "id": "ey6HJkaQqKtD",
    "outputId": "9c768988-8cdf-48c0-f4af-347033177840"
   },
   "outputs": [
    {
     "name": "stdout",
     "output_type": "stream",
     "text": [
      "Mounted at /content/drive\n"
     ]
    }
   ],
   "source": [
    "from google.colab import drive\n",
    "drive.mount('/content/drive')\n",
    "path = '/content/drive/MyDrive/Colab Notebooks/dataset/'"
   ]
  },
  {
   "cell_type": "code",
   "execution_count": 2,
   "metadata": {
    "executionInfo": {
     "elapsed": 704,
     "status": "ok",
     "timestamp": 1708626979115,
     "user": {
      "displayName": "박성부",
      "userId": "13218073421037334971"
     },
     "user_tz": -540
    },
    "id": "_e3SUtWHqVq0"
   },
   "outputs": [],
   "source": [
    "import json\n",
    "import pandas as pd"
   ]
  },
  {
   "cell_type": "markdown",
   "metadata": {
    "id": "57lW6O3vxLME"
   },
   "source": [
    "## Load sentence generation dataset"
   ]
  },
  {
   "cell_type": "code",
   "execution_count": 3,
   "metadata": {
    "executionInfo": {
     "elapsed": 508,
     "status": "ok",
     "timestamp": 1708626979619,
     "user": {
      "displayName": "박성부",
      "userId": "13218073421037334971"
     },
     "user_tz": -540
    },
    "id": "IG4wprMjle3x"
   },
   "outputs": [],
   "source": [
    "with open(path +'PromptDataset_senGen.json', 'r') as f1:\n",
    "    dev_data_sg = json.load(f1)"
   ]
  },
  {
   "cell_type": "code",
   "execution_count": 4,
   "metadata": {
    "colab": {
     "base_uri": "https://localhost:8080/"
    },
    "executionInfo": {
     "elapsed": 4,
     "status": "ok",
     "timestamp": 1708626979619,
     "user": {
      "displayName": "박성부",
      "userId": "13218073421037334971"
     },
     "user_tz": -540
    },
    "id": "5mwNhzVgrOWr",
    "outputId": "c408f193-45f2-4690-d899-537e775601ce"
   },
   "outputs": [
    {
     "data": {
      "text/plain": [
       "443"
      ]
     },
     "execution_count": 4,
     "metadata": {},
     "output_type": "execute_result"
    }
   ],
   "source": [
    "len(dev_data_sg['datasets'])"
   ]
  },
  {
   "cell_type": "code",
   "execution_count": 5,
   "metadata": {
    "executionInfo": {
     "elapsed": 2,
     "status": "ok",
     "timestamp": 1708626979619,
     "user": {
      "displayName": "박성부",
      "userId": "13218073421037334971"
     },
     "user_tz": -540
    },
    "id": "gJQmjA6iquHZ"
   },
   "outputs": [],
   "source": [
    "def get_txt_to_data(ori_data):\n",
    "  prompts = []\n",
    "  new_data = {'dataset': prompts}\n",
    "  for n in range(len(ori_data['datasets'])):\n",
    "    message = ori_data['datasets'][n]['messages']\n",
    "    prompts.append(message[0]['content']+ message[1]['content']+message[2]['content'])\n",
    "  return new_data\n"
   ]
  },
  {
   "cell_type": "code",
   "execution_count": 6,
   "metadata": {
    "executionInfo": {
     "elapsed": 451,
     "status": "ok",
     "timestamp": 1708626980068,
     "user": {
      "displayName": "박성부",
      "userId": "13218073421037334971"
     },
     "user_tz": -540
    },
    "id": "7A6FnI7Av8x7"
   },
   "outputs": [],
   "source": [
    "data_sg = get_txt_to_data(dev_data_sg)\n",
    "df1 = pd.DataFrame(data_sg)"
   ]
  },
  {
   "cell_type": "code",
   "execution_count": 7,
   "metadata": {
    "colab": {
     "base_uri": "https://localhost:8080/"
    },
    "executionInfo": {
     "elapsed": 3,
     "status": "ok",
     "timestamp": 1708626980068,
     "user": {
      "displayName": "박성부",
      "userId": "13218073421037334971"
     },
     "user_tz": -540
    },
    "id": "Mt_lKhkeu7K1",
    "outputId": "bc1579ea-fd38-43c1-ad9e-535958336740"
   },
   "outputs": [
    {
     "data": {
      "text/plain": [
       "array([\"### instruction :\\nYour role is to assess the accuracy and consistency of the given sentence within the context of an ongoing story. Please briefly evaluate the validity of the sentence as either 'correct' or 'incorrect'.\\n\\n### input :\\n- sentence :\\nA bird sings sweetly in the morning\\n\\n### output :\\n{validity : correct}\"],\n",
       "      dtype=object)"
      ]
     },
     "execution_count": 7,
     "metadata": {},
     "output_type": "execute_result"
    }
   ],
   "source": [
    "df1.values[1]"
   ]
  },
  {
   "cell_type": "markdown",
   "metadata": {
    "id": "OgpF_DfJxWrd"
   },
   "source": [
    "## Load word generation dataset"
   ]
  },
  {
   "cell_type": "code",
   "execution_count": 8,
   "metadata": {
    "executionInfo": {
     "elapsed": 472,
     "status": "ok",
     "timestamp": 1708626980538,
     "user": {
      "displayName": "박성부",
      "userId": "13218073421037334971"
     },
     "user_tz": -540
    },
    "id": "cTaY7vcOx3cS"
   },
   "outputs": [],
   "source": [
    "with open(path +'PromptDataset_wordGen.json', 'r') as f2:\n",
    "    dev_data_wg = json.load(f2)"
   ]
  },
  {
   "cell_type": "code",
   "execution_count": 9,
   "metadata": {
    "colab": {
     "base_uri": "https://localhost:8080/"
    },
    "executionInfo": {
     "elapsed": 4,
     "status": "ok",
     "timestamp": 1708626980539,
     "user": {
      "displayName": "박성부",
      "userId": "13218073421037334971"
     },
     "user_tz": -540
    },
    "id": "ulLybNegyKK-",
    "outputId": "b47b7ee9-ee04-436d-cadf-7e602b40823a"
   },
   "outputs": [
    {
     "data": {
      "text/plain": [
       "274"
      ]
     },
     "execution_count": 9,
     "metadata": {},
     "output_type": "execute_result"
    }
   ],
   "source": [
    "len(dev_data_wg['datasets'])"
   ]
  },
  {
   "cell_type": "code",
   "execution_count": 10,
   "metadata": {
    "executionInfo": {
     "elapsed": 3,
     "status": "ok",
     "timestamp": 1708626980539,
     "user": {
      "displayName": "박성부",
      "userId": "13218073421037334971"
     },
     "user_tz": -540
    },
    "id": "M6rFxEO-xIQ3"
   },
   "outputs": [],
   "source": [
    "data_wg = get_txt_to_data(dev_data_wg)\n",
    "df2 = pd.DataFrame(data_wg)"
   ]
  },
  {
   "cell_type": "code",
   "execution_count": 11,
   "metadata": {
    "colab": {
     "base_uri": "https://localhost:8080/"
    },
    "executionInfo": {
     "elapsed": 3,
     "status": "ok",
     "timestamp": 1708626980539,
     "user": {
      "displayName": "박성부",
      "userId": "13218073421037334971"
     },
     "user_tz": -540
    },
    "id": "I6CxMveIvK9T",
    "outputId": "54ace83b-ac38-4bda-dcaf-9b9c28e54055"
   },
   "outputs": [
    {
     "data": {
      "text/plain": [
       "717"
      ]
     },
     "execution_count": 11,
     "metadata": {},
     "output_type": "execute_result"
    }
   ],
   "source": [
    "merged_df = pd.merge(df1, df2, on=['dataset'], how='outer')\n",
    "len(merged_df)"
   ]
  },
  {
   "cell_type": "code",
   "execution_count": 12,
   "metadata": {
    "executionInfo": {
     "elapsed": 1158,
     "status": "ok",
     "timestamp": 1708626981695,
     "user": {
      "displayName": "박성부",
      "userId": "13218073421037334971"
     },
     "user_tz": -540
    },
    "id": "nuwMBTH3-iWc"
   },
   "outputs": [],
   "source": [
    "tmp= pd.read_csv('/content/drive/MyDrive/Colab Notebooks/dataset/regen.csv')\n"
   ]
  },
  {
   "cell_type": "code",
   "execution_count": 13,
   "metadata": {
    "executionInfo": {
     "elapsed": 3,
     "status": "ok",
     "timestamp": 1708626981695,
     "user": {
      "displayName": "박성부",
      "userId": "13218073421037334971"
     },
     "user_tz": -540
    },
    "id": "RE7ManFA_VCP"
   },
   "outputs": [],
   "source": [
    "merged_df = pd.merge(merged_df, tmp, on=['dataset'], how='outer')"
   ]
  },
  {
   "cell_type": "code",
   "execution_count": 14,
   "metadata": {
    "executionInfo": {
     "elapsed": 657,
     "status": "ok",
     "timestamp": 1708626982350,
     "user": {
      "displayName": "박성부",
      "userId": "13218073421037334971"
     },
     "user_tz": -540
    },
    "id": "WtIPT-DfyTub"
   },
   "outputs": [],
   "source": [
    "with open(path+\"merged_dataset.csv\", \"w\") as f:\n",
    "    merged_df.to_csv(f, index=False)"
   ]
  },
  {
   "cell_type": "code",
   "execution_count": 15,
   "metadata": {
    "colab": {
     "base_uri": "https://localhost:8080/"
    },
    "executionInfo": {
     "elapsed": 3,
     "status": "ok",
     "timestamp": 1708627050976,
     "user": {
      "displayName": "박성부",
      "userId": "13218073421037334971"
     },
     "user_tz": -540
    },
    "id": "ikgIoO_6yUpV",
    "outputId": "2526ed76-7635-4691-ff2d-737572f8622c"
   },
   "outputs": [
    {
     "data": {
      "text/plain": [
       "1488"
      ]
     },
     "execution_count": 15,
     "metadata": {},
     "output_type": "execute_result"
    }
   ],
   "source": [
    "len(merged_df)"
   ]
  },
  {
   "cell_type": "code",
   "execution_count": 14,
   "metadata": {
    "executionInfo": {
     "elapsed": 3,
     "status": "ok",
     "timestamp": 1708626982350,
     "user": {
      "displayName": "박성부",
      "userId": "13218073421037334971"
     },
     "user_tz": -540
    },
    "id": "_EkMlZSZqpIg"
   },
   "outputs": [],
   "source": []
  }
 ],
 "metadata": {
  "colab": {
   "authorship_tag": "ABX9TyMKqjLJeB0biU6VceE+AhlQ",
   "provenance": []
  },
  "kernelspec": {
   "display_name": "Python 3",
   "name": "python3"
  },
  "language_info": {
   "name": "python"
  }
 },
 "nbformat": 4,
 "nbformat_minor": 0
}
